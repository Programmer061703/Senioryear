{
 "cells": [
  {
   "cell_type": "markdown",
   "metadata": {},
   "source": [
    "# Homework 2: Question 2"
   ]
  },
  {
   "cell_type": "markdown",
   "metadata": {},
   "source": [
    "Please provide your contact information below <br>\n",
    "> Name: <br>\n",
    "> UAID:  <br>\n",
    "> Email: <br> "
   ]
  },
  {
   "cell_type": "markdown",
   "metadata": {},
   "source": [
    "This notebook contains the code for Question 2. There are three parts for you to fill in:\n",
    "1. The heuristic values that you report in Question 1 (c) \n",
    "2. The code for the Greedy Best First Search algorithm\n",
    "3. The code for the A* algorithm\n",
    "\n",
    "To simplify the code, we will use adjacent list and heapq as queue."
   ]
  },
  {
   "cell_type": "code",
   "execution_count": null,
   "metadata": {},
   "outputs": [],
   "source": [
    "import heapq\n",
    "\n",
    "# Define the graph (edge costs and heuristic values)\n",
    "# (node): [(neighbor, edge_cost), ...]\n",
    "graph = {\n",
    "    'S': [('B', 4), ('D', 2)],\n",
    "    'D': [('A', 1), ('E', 5)],\n",
    "    'B': [('T', 2), ('J', 1)],\n",
    "    'E': [('J', 1)],\n",
    "    'A': [('F', 3)], \n",
    "    'T': [('G', 3)],\n",
    "    'J': [('G', 6)],\n",
    "    'F': [],\n",
    "    'G': []\n",
    "}\n",
    "\n",
    "### YOUR CODE HERE ###\n",
    "# Heuristic values: FILL IN THE VALUES\n",
    "heuristic = {\n",
    "    'S': None,\n",
    "    'D': None,\n",
    "    'B': None,\n",
    "    'A': None,\n",
    "    'T': None, \n",
    "    'E': None,\n",
    "    'J': None,\n",
    "    'F': None,\n",
    "    'G': 0\n",
    "}\n",
    "### END YOUR CODE ###\n",
    "\n",
    "# Greedy Search\n",
    "def greedy_search(graph, heuristic, start, goal):\n",
    "    ### YOUR CODE HERE ###\n",
    "    frontier = [(heuristic[start], start)] # initialization of the frontier\n",
    "    \n",
    "    ### END YOUR CODE ###\n",
    "    return \"Goal not reachable\"\n",
    "\n",
    "# A Search (A* Search)\n",
    "def a_search(graph, heuristic, start, goal):\n",
    "    ### YOUR CODE HERE ###\n",
    "    frontier = [(heuristic[start], 0, start)] # initialization of the frontier\n",
    "    \n",
    "    ### END YOUR CODE ###\n",
    "    return \"Goal not reachable\"\n",
    "\n",
    "# Test the functions\n",
    "print(greedy_search(graph, heuristic, 'S', 'G'))  # Output should indicate reaching the goal\n",
    "print(a_search(graph, heuristic, 'S', 'G'))  # Output should indicate reaching the goal and the cost\n"
   ]
  }
 ],
 "metadata": {
  "kernelspec": {
   "display_name": "Python 3.8.13 ('delegate')",
   "language": "python",
   "name": "python3"
  },
  "language_info": {
   "codemirror_mode": {
    "name": "ipython",
    "version": 3
   },
   "file_extension": ".py",
   "mimetype": "text/x-python",
   "name": "python",
   "nbconvert_exporter": "python",
   "pygments_lexer": "ipython3",
   "version": "3.10.9"
  },
  "orig_nbformat": 4,
  "vscode": {
   "interpreter": {
    "hash": "bc71ac8b2896623095ab79efddbb80dce87353990c7ccf385548e19e38d34a55"
   }
  }
 },
 "nbformat": 4,
 "nbformat_minor": 2
}
