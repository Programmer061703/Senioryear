{
 "cells": [
  {
   "cell_type": "markdown",
   "metadata": {},
   "source": [
    "# Homework 2: Question 2"
   ]
  },
  {
   "cell_type": "markdown",
   "metadata": {},
   "source": [
    "Please provide your contact information below <br>\n",
    "> Name: Blake Williams <br>\n",
    "> UAID: 010974718  <br>\n",
    "> Email: brw020@uark.edu <br> "
   ]
  },
  {
   "cell_type": "markdown",
   "metadata": {},
   "source": [
    "This notebook contains the code for Question 2. There are three parts for you to fill in:\n",
    "1. The heuristic values that you report in Question 1 (c) \n",
    "2. The code for the Greedy Best First Search algorithm\n",
    "3. The code for the A* algorithm\n",
    "\n",
    "To simplify the code, we will use adjacent list and heapq as queue."
   ]
  },
  {
   "cell_type": "code",
   "execution_count": null,
   "metadata": {},
   "outputs": [],
   "source": [
    "import heapq\n",
    "\n",
    "# Define the graph (edge costs and heuristic values)\n",
    "# (node): [(neighbor, edge_cost), ...]\n",
    "graph = {\n",
    "    'S': [('B', 4), ('D', 2)],\n",
    "    'D': [('A', 1), ('E', 5)],\n",
    "    'B': [('T', 2), ('J', 1)],\n",
    "    'E': [('J', 1)],\n",
    "    'A': [('F', 3)], \n",
    "    'T': [('G', 3)],\n",
    "    'J': [('G', 6)],\n",
    "    'F': [],\n",
    "    'G': []\n",
    "}\n",
    "\n",
    "### YOUR CODE HERE ###\n",
    "# Heuristic values: FILL IN THE VALUES\n",
    "heuristic = {\n",
    "    'S': 9,\n",
    "    'D': 12,\n",
    "    'B': 5,\n",
    "    'A': 15,\n",
    "    'T': 3, \n",
    "    'E': 7,\n",
    "    'J': 6,\n",
    "    'F': 18,\n",
    "    'G': 0\n",
    "}\n",
    "### END YOUR CODE ###\n",
    "\n",
    "# Greedy Search\n",
    "def greedy_search(graph, heuristic, start, goal):\n",
    "\n",
    "    frontier = [(heuristic[start], start)]\n",
    "    explored = set()  # To keep track of explored nodes\n",
    "\n",
    "    while frontier:\n",
    "        # Select the node with the lowest heuristic value\n",
    "        _, current_node = heapq.heappop(frontier)\n",
    "\n",
    "        if current_node == goal:\n",
    "            return f\"Goal reached: {current_node}\"\n",
    "\n",
    "        explored.add(current_node)\n",
    "\n",
    "        # Expand the node\n",
    "        for neighbor, _ in graph[current_node]:\n",
    "            if neighbor not in explored:\n",
    "                heapq.heappush(frontier, (heuristic[neighbor], neighbor))\n",
    "\n",
    "    return \"Goal not reachable\"\n",
    "\n",
    "# A Search (A* Search)\n",
    "def a_search(graph, heuristic, start, goal):\n",
    "\n",
    "    frontier = [(heuristic[start], 0, start)]\n",
    "    explored = set()  # To keep track of explored nodes\n",
    "    costs = {start: 0}  # Track the cost of reaching each node\n",
    "\n",
    "    while frontier:\n",
    "        _, current_cost, current_node = heapq.heappop(frontier)\n",
    "\n",
    "        if current_node == goal:\n",
    "            return f\"Goal reached: {current_node}, Total cost: {current_cost}\"\n",
    "\n",
    "        explored.add(current_node)\n",
    "\n",
    "        # Expand the node\n",
    "        for neighbor, cost in graph[current_node]:\n",
    "            new_cost = current_cost + cost\n",
    "\n",
    "            if neighbor not in explored or new_cost < costs.get(neighbor, float('inf')):\n",
    "                costs[neighbor] = new_cost\n",
    "                total_cost = new_cost + heuristic[neighbor]\n",
    "                heapq.heappush(frontier, (total_cost, new_cost, neighbor))\n",
    "\n",
    "    return \"Goal not reachable\"\n",
    "\n",
    "# Test the functions\n",
    "print(greedy_search(graph, heuristic, 'S', 'G'))  # Output should indicate reaching the goal\n",
    "print(a_search(graph, heuristic, 'S', 'G'))  # Output should indicate reaching the goal and the cost\n"
   ]
  }
 ],
 "metadata": {
  "kernelspec": {
   "display_name": "Python 3.8.13 ('delegate')",
   "language": "python",
   "name": "python3"
  },
  "language_info": {
   "codemirror_mode": {
    "name": "ipython",
    "version": 3
   },
   "file_extension": ".py",
   "mimetype": "text/x-python",
   "name": "python",
   "nbconvert_exporter": "python",
   "pygments_lexer": "ipython3",
   "version": "3.10.9"
  },
  "orig_nbformat": 4,
  "vscode": {
   "interpreter": {
    "hash": "bc71ac8b2896623095ab79efddbb80dce87353990c7ccf385548e19e38d34a55"
   }
  }
 },
 "nbformat": 4,
 "nbformat_minor": 2
}
