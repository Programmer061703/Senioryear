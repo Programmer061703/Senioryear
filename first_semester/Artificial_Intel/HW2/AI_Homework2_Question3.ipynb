{
 "cells": [
  {
   "cell_type": "markdown",
   "metadata": {},
   "source": [
    "# Homework 2: Question 3"
   ]
  },
  {
   "cell_type": "markdown",
   "metadata": {},
   "source": [
    "Please provide your contact information below <br>\n",
    "> Name: Blake Williams <br>\n",
    "> UAID: 010974718  <br>\n",
    "> Email: brw020@uark.edu <br> "
   ]
  },
  {
   "cell_type": "markdown",
   "metadata": {},
   "source": [
    "In this assignment, you'll need to implement two algorithms: Forward Checking, and Arc Consistency. Note that I also provide a brute-force approach (Backtracking) below, you can use it as a reference, but you don't need to implement it:\n",
    "\n",
    "1. **Backtracking**: Pure backtracking without any additional pruning.\n",
    "2. **Forward Checking**: Backtracking along with maintaining a list of possible values for each empty cell, updating it as you fill other cells.\n",
    "3. **Arc Consistency (AC-3)**: Enforces arc consistency on the CSP problem, reducing the domain of variables before applying  backtracking or forward checking.\n",
    "\n"
   ]
  },
  {
   "cell_type": "code",
   "execution_count": 4,
   "metadata": {},
   "outputs": [
    {
     "name": "stdout",
     "output_type": "stream",
     "text": [
      "Solved by Backtracking\n",
      "[[4, 8, 3, 9, 2, 1, 6, 5, 7], [9, 6, 7, 3, 4, 5, 8, 2, 1], [2, 5, 1, 8, 7, 6, 4, 9, 3], [5, 4, 8, 1, 3, 2, 9, 7, 6], [7, 2, 9, 5, 6, 4, 1, 3, 8], [1, 3, 6, 7, 9, 8, 2, 4, 5], [3, 7, 2, 6, 8, 9, 5, 1, 4], [8, 1, 4, 2, 5, 3, 7, 6, 9], [6, 9, 5, 4, 1, 7, 3, 8, 2]]\n"
     ]
    }
   ],
   "source": [
    "# Initialize a Sudoku grid\n",
    "sudoku_grid = [\n",
    "    [0, 0, 3, 0, 2, 0, 6, 0, 0],\n",
    "    [9, 0, 0, 3, 0, 5, 0, 0, 1],\n",
    "    [0, 0, 1, 8, 0, 6, 4, 0, 0],\n",
    "    [0, 0, 8, 1, 0, 2, 9, 0, 0],\n",
    "    [7, 0, 0, 0, 0, 0, 0, 0, 8],\n",
    "    [0, 0, 6, 7, 0, 8, 2, 0, 0],\n",
    "    [0, 0, 2, 6, 0, 9, 5, 0, 0],\n",
    "    [8, 0, 0, 2, 0, 3, 0, 0, 9],\n",
    "    [0, 0, 5, 0, 1, 0, 3, 0, 0]\n",
    "]\n",
    "\n",
    "def is_valid_move(board, row, col, num):\n",
    "    # Check row, column and the 3x3 square\n",
    "    for i in range(9):\n",
    "        if board[row][i] == num or board[i][col] == num:\n",
    "            return False\n",
    "    start_row, start_col = 3 * (row // 3), 3 * (col // 3)\n",
    "    for i in range(start_row, start_row + 3):\n",
    "        for j in range(start_col, start_col + 3):\n",
    "            if board[i][j] == num:\n",
    "                return False\n",
    "    return True\n",
    "\n",
    "# Backtracking Algorithm\n",
    "def backtracking(board):\n",
    "    for row in range(9):\n",
    "        for col in range(9):\n",
    "            if board[row][col] == 0:\n",
    "                for num in range(1, 10):\n",
    "                    if is_valid_move(board, row, col, num):\n",
    "                        board[row][col] = num\n",
    "                        if backtracking(board):\n",
    "                            return True\n",
    "                        board[row][col] = 0\n",
    "                return False\n",
    "    return True  # Whole board filled correctly\n",
    "\n",
    "# Forward Checking Algorithm\n",
    "### YOUR CODE HERE ###\n",
    "# Implement Forward Checking here\n",
    "def forward_checking(board):\n",
    "    pass\n",
    "\n",
    "\n",
    "\n",
    "### END YOUR CODE ###\n",
    "\n",
    "# Arc Consistency (AC-3) Algorithm\n",
    "### YOUR CODE HERE ###\n",
    "# Implement AC-3 here\n",
    "def arc_consistency(board):\n",
    "    pass\n",
    "\n",
    "\n",
    "\n",
    "### END YOUR CODE ###\n",
    "\n",
    "\n",
    "# Main function to choose the algorithm\n",
    "def solve_sudoku(method):\n",
    "    if method == 'backtracking':\n",
    "        if backtracking(sudoku_grid):\n",
    "            print(\"Solved by Backtracking\")\n",
    "            print(sudoku_grid)\n",
    "    elif method == 'forward_checking':\n",
    "        # Call your forward_checking function here\n",
    "        pass\n",
    "    elif method == 'arc_consistency':\n",
    "        # Call your arc_consistency function here\n",
    "        pass\n",
    "    else:\n",
    "        print(\"Invalid method\")\n",
    "\n",
    "# Example usage\n",
    "solve_sudoku('backtracking')"
   ]
  }
 ],
 "metadata": {
  "kernelspec": {
   "display_name": "Python 3.8.13 ('delegate')",
   "language": "python",
   "name": "python3"
  },
  "language_info": {
   "codemirror_mode": {
    "name": "ipython",
    "version": 3
   },
   "file_extension": ".py",
   "mimetype": "text/x-python",
   "name": "python",
   "nbconvert_exporter": "python",
   "pygments_lexer": "ipython3",
   "version": "3.10.9"
  },
  "orig_nbformat": 4,
  "vscode": {
   "interpreter": {
    "hash": "bc71ac8b2896623095ab79efddbb80dce87353990c7ccf385548e19e38d34a55"
   }
  }
 },
 "nbformat": 4,
 "nbformat_minor": 2
}
